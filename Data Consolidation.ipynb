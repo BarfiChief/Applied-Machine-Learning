{
 "cells": [
  {
   "cell_type": "code",
   "execution_count": null,
   "metadata": {},
   "outputs": [],
   "source": [
    "import pandas as pd"
   ]
  },
  {
   "cell_type": "code",
   "execution_count": null,
   "metadata": {},
   "outputs": [],
   "source": [
    "thigh_data=pd.DataFrame()\n",
    "window=100\n",
    "last=0\n",
    "activities=[\"climbingdown\",\"climbingup\",\"jumping\",\"lying\",\"running\",\"sitting\",\"standing\",\"walking\"]\n",
    "for sub in range(1,7):\n",
    "    for i,act in enumerate(activities):\n",
    "        file_acc=\"./Raw_Sensor_Data\"+\"/Subject_\"+str(sub)+\"/Accelerometer\"+\"/acc_\"+act+\"_thigh.csv\"\n",
    "        file_gyro=\"./Raw_Sensor_Data\"+\"/Subject_\"+str(sub)+\"/Gyroscope\"+\"/Gyroscope_\"+act+\"_thigh.csv\"\n",
    "        acc=pd.read_csv(file_acc,index_col=0)\n",
    "        gyro=pd.read_csv(file_gyro,index_col=0)\n",
    "        if (len(gyro)>len(acc)):\n",
    "            extra=len(gyro)-len(acc)\n",
    "            acc=acc[:-extra]\n",
    "        if (len(acc)>len(gyro)):\n",
    "            extra=len(acc)-len(gyro)\n",
    "            gyro=gyro[:-extra]\n",
    "        data=pd.merge(gyro,acc,right_index=True,left_index=True,suffixes=('_gyro','_acc'))\n",
    "        data['Activity']=act\n",
    "        data['Label']=i\n",
    "        data['Subject']=sub\n",
    "        data['Sample_Num']=0\n",
    "        remainder=len(data)%window\n",
    "        data=data[:-remainder]\n",
    "        number_samples=int(len(data)/window)\n",
    "        row_number=0\n",
    "        for j in range(0,number_samples):\n",
    "            data.Sample_Num[row_number:row_number+window]=last+j\n",
    "            row_number=row_number+window\n",
    "        last+=number_samples\n",
    "        thigh_data=thigh_data.append(data,ignore_index=True)"
   ]
  },
  {
   "cell_type": "code",
   "execution_count": null,
   "metadata": {},
   "outputs": [],
   "source": [
    "training=thigh_data[thigh_data.Subject.between(1,4)]\n",
    "testing=thigh_data[thigh_data.Subject.between(5,6)]"
   ]
  },
  {
   "cell_type": "code",
   "execution_count": null,
   "metadata": {},
   "outputs": [],
   "source": [
    "training.to_csv('./Data/thigh_training.csv')\n",
    "testing.to_csv('./Data/thigh_testing.csv')"
   ]
  }
 ],
 "metadata": {
  "kernelspec": {
   "display_name": "Python 3",
   "language": "python",
   "name": "python3"
  },
  "language_info": {
   "codemirror_mode": {
    "name": "ipython",
    "version": 3
   },
   "file_extension": ".py",
   "mimetype": "text/x-python",
   "name": "python",
   "nbconvert_exporter": "python",
   "pygments_lexer": "ipython3",
   "version": "3.7.6"
  }
 },
 "nbformat": 4,
 "nbformat_minor": 4
}
